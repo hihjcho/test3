{
 "cells": [
  {
   "cell_type": "code",
   "execution_count": null,
   "metadata": {},
   "outputs": [],
   "source": [
    "Beamforming Scheme types:\n",
    "- conventional beamforming(CBF)\n",
    "- adaptive beamforming; MVDR, MUSIC, WNC\n",
    "- Compressive beamforming; Grid-free compressive beamforming\n",
    "\n",
    "Compressive beamforming\n",
    "SBL의 사용"
   ]
  },
  {
   "cell_type": "code",
   "execution_count": null,
   "metadata": {},
   "outputs": [],
   "source": []
  }
 ],
 "metadata": {
  "language_info": {
   "name": "plaintext"
  },
  "orig_nbformat": 4
 },
 "nbformat": 4,
 "nbformat_minor": 2
}
